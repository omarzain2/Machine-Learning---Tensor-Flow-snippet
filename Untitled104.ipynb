{
 "cells": [
  {
   "cell_type": "code",
   "execution_count": 52,
   "metadata": {},
   "outputs": [],
   "source": [
    "import tensorflow as tf\n",
    "import keras as kr\n",
    "import pandas as pd\n",
    "import numpy as np\n",
    "import matplotlib.pyplot as plt\n",
    "from matplotlib import style\n",
    "import sklearn\n",
    "from sklearn import linear_model\n",
    "from sklearn.utils import shuffle\n",
    "import pickle"
   ]
  },
  {
   "cell_type": "code",
   "execution_count": 46,
   "metadata": {},
   "outputs": [
    {
     "data": {
      "text/html": [
       "<div>\n",
       "<style scoped>\n",
       "    .dataframe tbody tr th:only-of-type {\n",
       "        vertical-align: middle;\n",
       "    }\n",
       "\n",
       "    .dataframe tbody tr th {\n",
       "        vertical-align: top;\n",
       "    }\n",
       "\n",
       "    .dataframe thead th {\n",
       "        text-align: right;\n",
       "    }\n",
       "</style>\n",
       "<table border=\"1\" class=\"dataframe\">\n",
       "  <thead>\n",
       "    <tr style=\"text-align: right;\">\n",
       "      <th></th>\n",
       "      <th>G1</th>\n",
       "      <th>G2</th>\n",
       "      <th>G3</th>\n",
       "      <th>studytime</th>\n",
       "      <th>failures</th>\n",
       "      <th>absences</th>\n",
       "    </tr>\n",
       "  </thead>\n",
       "  <tbody>\n",
       "    <tr>\n",
       "      <th>0</th>\n",
       "      <td>5</td>\n",
       "      <td>6</td>\n",
       "      <td>6</td>\n",
       "      <td>2</td>\n",
       "      <td>0</td>\n",
       "      <td>6</td>\n",
       "    </tr>\n",
       "    <tr>\n",
       "      <th>1</th>\n",
       "      <td>5</td>\n",
       "      <td>5</td>\n",
       "      <td>6</td>\n",
       "      <td>2</td>\n",
       "      <td>0</td>\n",
       "      <td>4</td>\n",
       "    </tr>\n",
       "    <tr>\n",
       "      <th>2</th>\n",
       "      <td>7</td>\n",
       "      <td>8</td>\n",
       "      <td>10</td>\n",
       "      <td>2</td>\n",
       "      <td>3</td>\n",
       "      <td>10</td>\n",
       "    </tr>\n",
       "    <tr>\n",
       "      <th>3</th>\n",
       "      <td>15</td>\n",
       "      <td>14</td>\n",
       "      <td>15</td>\n",
       "      <td>3</td>\n",
       "      <td>0</td>\n",
       "      <td>2</td>\n",
       "    </tr>\n",
       "    <tr>\n",
       "      <th>4</th>\n",
       "      <td>6</td>\n",
       "      <td>10</td>\n",
       "      <td>10</td>\n",
       "      <td>2</td>\n",
       "      <td>0</td>\n",
       "      <td>4</td>\n",
       "    </tr>\n",
       "    <tr>\n",
       "      <th>5</th>\n",
       "      <td>15</td>\n",
       "      <td>15</td>\n",
       "      <td>15</td>\n",
       "      <td>2</td>\n",
       "      <td>0</td>\n",
       "      <td>10</td>\n",
       "    </tr>\n",
       "    <tr>\n",
       "      <th>6</th>\n",
       "      <td>12</td>\n",
       "      <td>12</td>\n",
       "      <td>11</td>\n",
       "      <td>2</td>\n",
       "      <td>0</td>\n",
       "      <td>0</td>\n",
       "    </tr>\n",
       "    <tr>\n",
       "      <th>7</th>\n",
       "      <td>6</td>\n",
       "      <td>5</td>\n",
       "      <td>6</td>\n",
       "      <td>2</td>\n",
       "      <td>0</td>\n",
       "      <td>6</td>\n",
       "    </tr>\n",
       "    <tr>\n",
       "      <th>8</th>\n",
       "      <td>16</td>\n",
       "      <td>18</td>\n",
       "      <td>19</td>\n",
       "      <td>2</td>\n",
       "      <td>0</td>\n",
       "      <td>0</td>\n",
       "    </tr>\n",
       "    <tr>\n",
       "      <th>9</th>\n",
       "      <td>14</td>\n",
       "      <td>15</td>\n",
       "      <td>15</td>\n",
       "      <td>2</td>\n",
       "      <td>0</td>\n",
       "      <td>0</td>\n",
       "    </tr>\n",
       "  </tbody>\n",
       "</table>\n",
       "</div>"
      ],
      "text/plain": [
       "   G1  G2  G3  studytime  failures  absences\n",
       "0   5   6   6          2         0         6\n",
       "1   5   5   6          2         0         4\n",
       "2   7   8  10          2         3        10\n",
       "3  15  14  15          3         0         2\n",
       "4   6  10  10          2         0         4\n",
       "5  15  15  15          2         0        10\n",
       "6  12  12  11          2         0         0\n",
       "7   6   5   6          2         0         6\n",
       "8  16  18  19          2         0         0\n",
       "9  14  15  15          2         0         0"
      ]
     },
     "execution_count": 46,
     "metadata": {},
     "output_type": "execute_result"
    }
   ],
   "source": [
    "data = pd.read_csv(\"/Users/zain/Downloads/student/student-mat.csv\", delimiter=';')\n",
    "data = data[[\"G1\", \"G2\", \"G3\",\"studytime\",\"failures\",\"absences\"]]\n",
    "data.head(10)"
   ]
  },
  {
   "cell_type": "markdown",
   "metadata": {},
   "source": [
    "##Prediction of G3"
   ]
  },
  {
   "cell_type": "code",
   "execution_count": 72,
   "metadata": {},
   "outputs": [
    {
     "name": "stdout",
     "output_type": "stream",
     "text": [
      "20.0625165115378 [17 15  1  0  4] 16\n",
      "5.169742714849546 [15 12  3  0  0] 14\n",
      "9.36834608902983 [14 12  2  1  8] 12\n",
      "10.736373777412343 [10 10  3  2  8] 10\n",
      "12.487679385652278 [ 8 10  2  0  4] 10\n",
      "16.182844549279366 [12 13  2  0  0] 14\n",
      "9.25787369488219 [7 0 2 0 0] 0\n",
      "8.483311293314973 [9 9 2 0 4] 10\n",
      "9.216574644834141 [6 5 2 0 4] 6\n",
      "19.17748171582295 [13 11  2  0  0] 10\n",
      "10.279487145233226 [9 8 2 1 0] 0\n",
      "14.466012260885249 [15 15  2  0  2] 14\n",
      "12.741008647104799 [11  8  2  0  2] 8\n",
      "18.577990581024288 [9 8 1 3 6] 10\n",
      "13.582976359208605 [ 8  9  1  1 38] 8\n",
      "5.685798137521805 [11 12  2  0 10] 13\n",
      "16.334615993475055 [16 12  1  0  8] 13\n",
      "6.050407336999418 [14 12  2  1  0] 12\n",
      "8.919891710865112 [14 15  1  0  3] 16\n",
      "14.191830169554365 [10  9  3  1 28] 9\n",
      "10.270859157247875 [11 11  2  0  0] 10\n",
      "8.851974009299264 [ 8 10  1  0  0] 11\n",
      "16.510208215215606 [7 4 1 2 0] 0\n",
      "14.256949997147279 [ 5  5  2  0 12] 5\n",
      "6.013161803458047 [10 12  2  0 16] 11\n",
      "4.7460480997051215 [10 11  2  0  2] 12\n",
      "8.534493973882116 [9 8 4 0 2] 8\n",
      "8.238545727474829 [10 10  4  0  0] 10\n",
      "5.593241596023016 [ 9 11  3  0  2] 11\n",
      "11.440507192346232 [8 8 1 1 4] 8\n",
      "9.66783546091453 [11 11  4  0  0] 11\n",
      "12.764829424649665 [6 5 3 1 0] 0\n",
      "13.5928599897277 [16 15  2  0  0] 15\n",
      "19.761575763148407 [9 9 2 0 6] 10\n",
      "14.339539533300643 [ 9 10  3  0  4] 10\n",
      "-1.1527082703008116 [8 9 1 0 0] 8\n",
      "9.77830785506217 [13 13  4  0  4] 12\n",
      "-0.679719931239607 [10  9  3  0  4] 9\n",
      "18.453581039850874 [12 11  2  0  0] 12\n",
      "-1.2868057080223614 [17 16  2  0  0] 16\n"
     ]
    },
    {
     "data": {
      "text/plain": [
       "Text(0, 0.5, 'Final Score')"
      ]
     },
     "execution_count": 72,
     "metadata": {},
     "output_type": "execute_result"
    },
    {
     "data": {
      "image/png": "[encoded data removed]",
      "text/plain": [
       "<Figure size 432x288 with 1 Axes>"
      ]
     },
     "metadata": {},
     "output_type": "display_data"
    }
   ],
   "source": [
    "predict = \"G3\"\n",
    "x=np.array(data.drop([predict], 1))\n",
    "y= np.array(data[predict])\n",
    "\n",
    "x_train, x_test, y_train, y_test = sklearn.model_selection.train_test_split(x, y, test_size =0.1)\n",
    "\n",
    "\n",
    "best_score = 0\n",
    "'''\n",
    "for __ in range(500):\n",
    "    x_train, x_test, y_train, y_test = sklearn.model_selection.train_test_split(x, y, test_size =0.1)\n",
    "\n",
    "    linear = linear_model.LinearRegression()\n",
    "    linear.fit(x_train,y_train)\n",
    "\n",
    "    acc = linear.score(x_test,y_test)\n",
    "    print(acc)\n",
    "\n",
    "    #print(\"Coefficient: \", linear.coef_ )\n",
    "    #print(\"Intercept: \", linear.intercept_)\n",
    "\n",
    "    predictions = linear.predict(x_test)\n",
    "    \n",
    "    if acc > best_score:\n",
    "        best_score = acc\n",
    "        with open(\"studentmodel.pickle\", \"wb\") as f:\n",
    "            pickle.dump(linear, f)\n",
    "            '''\n",
    "    \n",
    "pickle_in= open(\"studentmodel.pickle\", \"rb\")\n",
    "linear = pickle.load(pickle_in)\n",
    "\n",
    "for i in range(len(predictions)):\n",
    "    print(predictions[i],x_test[i],y_test[i])\n",
    "    \n",
    "style.use(\"ggplot\")\n",
    "plt.scatter(data[\"studytime\"],data[\"G3\"], 15, color = \"r\")\n",
    "#plt.scatter(data[\"G1\"],data[\"G3\"], 15, color = \"b\")\n",
    "plt.xlabel(\"First grade recieved\")\n",
    "plt.ylabel(\"Final Score\")"
   ]
  },
  {
   "cell_type": "code",
   "execution_count": 58,
   "metadata": {},
   "outputs": [
    {
     "data": {
      "text/plain": [
       "0.9656094259602063"
      ]
     },
     "execution_count": 58,
     "metadata": {},
     "output_type": "execute_result"
    }
   ],
   "source": [
    "best_score"
   ]
  },
  {
   "cell_type": "code",
   "execution_count": 70,
   "metadata": {},
   "outputs": [
    {
     "data": {
      "text/plain": [
       "9117844.0"
      ]
     },
     "execution_count": 70,
     "metadata": {},
     "output_type": "execute_result"
    }
   ],
   "source": [
    "data[\"G1\"].sum() * data[\"G2\"].sum() / 2"
   ]
  },
  {
   "cell_type": "code",
   "execution_count": null,
   "metadata": {},
   "outputs": [],
   "source": []
  }
 ],
 "metadata": {
  "kernelspec": {
   "display_name": "Python 3",
   "language": "python",
   "name": "python3"
  },
  "language_info": {
   "codemirror_mode": {
    "name": "ipython",
    "version": 3
   },
   "file_extension": ".py",
   "mimetype": "text/x-python",
   "name": "python",
   "nbconvert_exporter": "python",
   "pygments_lexer": "ipython3",
   "version": "3.7.1"
  }
 },
 "nbformat": 4,
 "nbformat_minor": 2
}
